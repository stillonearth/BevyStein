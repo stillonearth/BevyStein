{
 "cells": [
  {
   "cell_type": "code",
   "execution_count": 10,
   "metadata": {},
   "outputs": [],
   "source": [
    "import env\n",
    "import numpy as np\n",
    "import torch\n",
    "import numpy as np\n",
    "import matplotlib.pyplot as plt\n",
    "\n",
    "from dqn_agent import Agent\n",
    "from collections import deque"
   ]
  },
  {
   "cell_type": "code",
   "execution_count": 11,
   "metadata": {},
   "outputs": [],
   "source": [
    "NUM_AGENTS = 16\n",
    "ACTION_SIZE = 8\n",
    "STATE_SIZE = (84, 84, 1)"
   ]
  },
  {
   "cell_type": "code",
   "execution_count": 12,
   "metadata": {},
   "outputs": [],
   "source": [
    "env = env.Environment((STATE_SIZE[0], STATE_SIZE[1]), NUM_AGENTS)"
   ]
  },
  {
   "cell_type": "code",
   "execution_count": 13,
   "metadata": {},
   "outputs": [],
   "source": [
    "state = env.state()"
   ]
  },
  {
   "cell_type": "code",
   "execution_count": 74,
   "metadata": {},
   "outputs": [],
   "source": [
    "from PIL import Image\n",
    "\n",
    "def plot_map(state):\n",
    "\n",
    "    positions = state['map']['walls']\n",
    "    x = np.max([p[0] for p in positions]) + 1\n",
    "    y = np.max([p[1] for p in positions]) + 1\n",
    "\n",
    "    img = np.zeros((x, y), dtype=np.uint8)\n",
    "\n",
    "    for p in positions:\n",
    "        img[p[0], p[1]] = 255\n",
    "\n",
    "    img = Image.fromarray(img, mode=\"L\").convert(\"RGB\")\n",
    "\n",
    "    for a in state['actors']:\n",
    "        x = a['position'][0]\n",
    "        y = a['position'][1]\n",
    "        img.putpixel((x, y), (255, 0, 0))"
   ]
  },
  {
   "cell_type": "code",
   "execution_count": 75,
   "metadata": {},
   "outputs": [
    {
     "name": "stdout",
     "output_type": "stream",
     "text": [
      "[{'health': 100, 'name': 'whispering-kite', 'position': [28.0, 28.0], 'rotation': 2.0651772022247314}, {'health': 100, 'name': 'best-afternoon', 'position': [2.0, 74.0], 'rotation': 4.387409210205078}, {'health': 100, 'name': 'direful-worm', 'position': [104.0, 88.0], 'rotation': 3.4038195610046387}, {'health': 100, 'name': 'cagey-pet', 'position': [60.0, 106.0], 'rotation': 3.506971597671509}, {'health': 100, 'name': 'available-team', 'position': [76.0, 28.0], 'rotation': 2.4247803688049316}, {'health': 100, 'name': 'neighborly-pen', 'position': [62.0, 70.0], 'rotation': 3.662670612335205}, {'health': 100, 'name': 'average-teaching', 'position': [24.0, 72.0], 'rotation': 0.4805007576942444}, {'health': 100, 'name': 'minor-growth', 'position': [70.0, 18.0], 'rotation': 5.272008419036865}, {'health': 100, 'name': 'periodic-health', 'position': [28.0, 64.0], 'rotation': 0.37388908863067627}, {'health': 100, 'name': 'statuesque-twig', 'position': [22.0, 58.0], 'rotation': 4.042611598968506}, {'health': 100, 'name': 'harsh-passenger', 'position': [22.0, 92.0], 'rotation': 5.771805763244629}, {'health': 100, 'name': 'fancy-hearing', 'position': [18.0, 28.0], 'rotation': 1.1521095037460327}, {'health': 100, 'name': 'handy-frogs', 'position': [18.0, 44.0], 'rotation': 4.484078407287598}, {'health': 100, 'name': 'glorious-letter', 'position': [12.0, 72.0], 'rotation': 0.853146493434906}, {'health': 100, 'name': 'rhetorical-dinner', 'position': [26.0, 36.0], 'rotation': 1.7824407815933228}, {'health': 100, 'name': 'roasted-light', 'position': [6.0, 82.0], 'rotation': 1.8105026483535767}]\n"
     ]
    }
   ],
   "source": [
    "plot = plot_map(state)\n",
    "\n",
    "plot\n",
    "\n",
    "# plt.imshow(plot)"
   ]
  },
  {
   "cell_type": "code",
   "execution_count": null,
   "metadata": {},
   "outputs": [],
   "source": [
    "from model import VisualQNetwork\n",
    "\n",
    "agent = Agent(\n",
    "    state_size=STATE_SIZE, \n",
    "    action_size=ACTION_SIZE, \n",
    "    seed=0, \n",
    "    double=True, \n",
    "    priority_replay=False,\n",
    "    q_network=VisualQNetwork,\n",
    ")"
   ]
  },
  {
   "cell_type": "code",
   "execution_count": null,
   "metadata": {},
   "outputs": [],
   "source": [
    "def augment_state(frames, actions):\n",
    "    action_t_minus_1, action_t = actions[-1], actions[0]\n",
    "    pix_t_minus_1, pix_t, pix_t_plus_1  = frames[0], frames[1], frames[2]\n",
    "\n",
    "    action_t_minus_1 = np.ones((STATE_SIZE[0], STATE_SIZE[1])) * action_t_minus_1\n",
    "    action_t = np.ones((STATE_SIZE[0], STATE_SIZE[1])) * action_t\n",
    "           \n",
    "    state = np.stack([\n",
    "        pix_t_minus_1, \n",
    "        pix_t,\n",
    "        pix_t_plus_1,\n",
    "    ])\n",
    "    \n",
    "    return state\n",
    "\n",
    "def dqn(n_episodes=100, max_t=10000, eps_start=1.0, eps_end=0.01, eps_decay=0.995):\n",
    "    \"\"\"Deep Q-Learning.\n",
    "    \n",
    "    Params\n",
    "    ======\n",
    "        n_episodes (int): maximum number of training episodes\n",
    "        max_t (int): maximum number of timesteps per episode\n",
    "        eps_start (float): starting value of epsilon, for epsilon-greedy action selection\n",
    "        eps_end (float): minimum value of epsilon\n",
    "        eps_decay (float): multiplicative factor (per episode) for decreasing epsilon\n",
    "    \"\"\"\n",
    "    \n",
    "    scores = []                          # list containing scores from each episode\n",
    "    scores_window = deque(maxlen=max_t)  # last 100 scores\n",
    "    eps = eps_start                      # initialize epsilon\n",
    "    \n",
    "    for i_episode in range(1, n_episodes+1):\n",
    "\n",
    "        state, _ = environment.reset()\n",
    "        \n",
    "        framebuffers = []\n",
    "        action_buffers = []\n",
    "\n",
    "        # get initial 3-frame observation\n",
    "        for i in range(NUM_AGENTS):\n",
    "            framebuffer = deque(maxlen=3)\n",
    "            action_buffer = deque(maxlen=2)\n",
    "\n",
    "            for _ in range(0, 3):\n",
    "                framebuffer.append(state[i])\n",
    "            for _ in range(0, 2):\n",
    "                action_buffer.append(np.ones(1))            \n",
    "            \n",
    "            framebuffers.append(framebuffer)\n",
    "            action_buffers.append(action_buffer)\n",
    "        \n",
    "        state = []\n",
    "        for i in range(0, NUM_AGENTS):\n",
    "            agent_state = augment_state(list(framebuffers[i]), list(action_buffers[i]))\n",
    "            state.append(agent_state)\n",
    "        state = np.array(state)\n",
    "\n",
    "        agent_scores = [0 for i in range(NUM_AGENTS)]\n",
    "        for t in range(max_t):\n",
    "\n",
    "            actions = []\n",
    "            raw_actions = []\n",
    "            rewards = []\n",
    "            is_terminated = []\n",
    "            for i in range(0, NUM_AGENTS):\n",
    "                action = agent.act(state[i], eps).astype(int)\n",
    "                action_buffers[i].append(action)\n",
    "                actions.append(action)\n",
    "                raw_actions.append(int(action))\n",
    "            \n",
    "            screens, rewards, is_terminated, _, _ = environment.step(actions)\n",
    "            for i in range(0, NUM_AGENTS):\n",
    "                framebuffers[i].append(screens[i])\n",
    "                next_state = augment_state(list(framebuffers[i]), list(action_buffers[i]))\n",
    "                agent.step(state[i], raw_actions[i], float(rewards[i]), next_state, int(is_terminated[i]))\n",
    "                state[i] = next_state\n",
    "                agent_scores[i] += rewards[i]\n",
    "                if is_terminated[i]: continue \n",
    "\n",
    "            if np.all(is_terminated):\n",
    "                break\n",
    "\n",
    "        scores_window.append(np.max(agent_scores))       # save most recent score\n",
    "        scores.append(np.max(agent_scores))\n",
    "        eps = max(eps_end, eps_decay*eps)\n",
    "        print('\\rEpisode {}\\tAverage Score: {:.2f}'.format(i_episode, np.mean(scores_window)), end=\"\")\n",
    "        if i_episode % 100 == 0:\n",
    "            torch.save(agent.qnetwork_local.state_dict(), \"visual_q_network.pth\")\n",
    "            print('\\rEpisode {}\\tAverage Score: {:.2f}'.format(i_episode, np.mean(scores_window)))\n",
    "\n",
    "    return scores"
   ]
  },
  {
   "cell_type": "code",
   "execution_count": null,
   "metadata": {},
   "outputs": [],
   "source": [
    "scores = dqn(n_episodes=100, max_t=100)"
   ]
  },
  {
   "cell_type": "code",
   "execution_count": null,
   "metadata": {},
   "outputs": [],
   "source": [
    "fig = plt.figure()\n",
    "fig.add_subplot(111)\n",
    "\n",
    "plt.plot(np.arange(len(scores)), scores)\n",
    "plt.ylabel('Score')\n",
    "plt.xlabel('Episode #')\n",
    "plt.show()"
   ]
  }
 ],
 "metadata": {
  "kernelspec": {
   "display_name": "Python 3.10.6 ('torch')",
   "language": "python",
   "name": "python3"
  },
  "language_info": {
   "codemirror_mode": {
    "name": "ipython",
    "version": 3
   },
   "file_extension": ".py",
   "mimetype": "text/x-python",
   "name": "python",
   "nbconvert_exporter": "python",
   "pygments_lexer": "ipython3",
   "version": "3.10.6"
  },
  "orig_nbformat": 4,
  "vscode": {
   "interpreter": {
    "hash": "82ea6adb180b12ed72836e614d5d57295654ca2a9780d621124b81b6a9baa809"
   }
  }
 },
 "nbformat": 4,
 "nbformat_minor": 2
}
