{
 "cells": [
  {
   "cell_type": "code",
   "execution_count": 1,
   "metadata": {},
   "outputs": [],
   "source": [
    "import env\n",
    "import numpy as np\n",
    "import torch\n",
    "import numpy as np\n",
    "import matplotlib.pyplot as plt\n",
    "\n",
    "from dqn_agent import Agent\n",
    "from collections import deque"
   ]
  },
  {
   "cell_type": "code",
   "execution_count": 2,
   "metadata": {},
   "outputs": [],
   "source": [
    "NUM_AGENTS = 16\n",
    "\n",
    "STATE_SIZE = (84, 84, 1)\n",
    "\n",
    "ACTION_MAP = {\n",
    "    0: \"IDLE\",\n",
    "    1: \"TURN_LEFT\",\n",
    "    2: \"TURN_RIGHT\",\n",
    "    3: \"LEFT\",\n",
    "    4: \"RIGHT\",\n",
    "    5: \"FORWARD\",\n",
    "    6: \"BACKWARD\",\n",
    "    7: \"SHOOT\",\n",
    "}\n",
    "ACTION_SIZE = 8"
   ]
  },
  {
   "cell_type": "code",
   "execution_count": 3,
   "metadata": {},
   "outputs": [],
   "source": [
    "environment = env.Environment(\"bevystein.exe\", (STATE_SIZE[0], STATE_SIZE[1]), NUM_AGENTS)"
   ]
  },
  {
   "cell_type": "code",
   "execution_count": 4,
   "metadata": {},
   "outputs": [],
   "source": [
    "frames = environment.visual_observations()"
   ]
  },
  {
   "cell_type": "code",
   "execution_count": 5,
   "metadata": {},
   "outputs": [],
   "source": [
    "from model import VisualQNetwork\n",
    "\n",
    "agent = Agent(\n",
    "    state_size=STATE_SIZE, \n",
    "    action_size=ACTION_SIZE, \n",
    "    seed=0, \n",
    "    double=True, \n",
    "    priority_replay=False,\n",
    "    q_network=VisualQNetwork,\n",
    ")"
   ]
  },
  {
   "cell_type": "code",
   "execution_count": 6,
   "metadata": {},
   "outputs": [],
   "source": [
    "def augment_state(frames, actions):\n",
    "    action_t_minus_1, action_t = actions[-1], actions[0]\n",
    "    pix_t_minus_1, pix_t, pix_t_plus_1  = frames[0], frames[1], frames[2]\n",
    "\n",
    "    action_t_minus_1 = np.ones((STATE_SIZE[0], STATE_SIZE[1])) * action_t_minus_1\n",
    "    action_t = np.ones((STATE_SIZE[0], STATE_SIZE[1])) * action_t\n",
    "           \n",
    "    state = np.stack([\n",
    "        pix_t_minus_1, \n",
    "        pix_t,\n",
    "        pix_t_plus_1,\n",
    "    ])\n",
    "    \n",
    "    return state\n",
    "\n",
    "def dqn(n_episodes=100, max_t=10000, eps_start=1.0, eps_end=0.01, eps_decay=0.995):\n",
    "    \"\"\"Deep Q-Learning.\n",
    "    \n",
    "    Params\n",
    "    ======\n",
    "        n_episodes (int): maximum number of training episodes\n",
    "        max_t (int): maximum number of timesteps per episode\n",
    "        eps_start (float): starting value of epsilon, for epsilon-greedy action selection\n",
    "        eps_end (float): minimum value of epsilon\n",
    "        eps_decay (float): multiplicative factor (per episode) for decreasing epsilon\n",
    "    \"\"\"\n",
    "    \n",
    "    scores = []                          # list containing scores from each episode\n",
    "    scores_window = deque(maxlen=max_t)  # last 100 scores\n",
    "    eps = eps_start                      # initialize epsilon\n",
    "    \n",
    "    for i_episode in range(1, n_episodes+1):\n",
    "\n",
    "        environment.reset()\n",
    "        \n",
    "        framebuffers = []\n",
    "        action_buffers = []\n",
    "\n",
    "        state = np.array(environment.visual_observations())\n",
    "\n",
    "        # get initial 3-frame observation\n",
    "        for i in range(NUM_AGENTS):\n",
    "            framebuffer = deque(maxlen=3)\n",
    "            action_buffer = deque(maxlen=2)\n",
    "\n",
    "            for _ in range(0, 3):\n",
    "                framebuffer.append(state[i])\n",
    "            for _ in range(0, 2):\n",
    "                action_buffer.append(np.ones(1))            \n",
    "            \n",
    "            framebuffers.append(framebuffer)\n",
    "            action_buffers.append(action_buffer)\n",
    "        \n",
    "        state = []\n",
    "        for i in range(0, NUM_AGENTS):\n",
    "            agent_state = augment_state(list(framebuffers[i]), list(action_buffers[i]))\n",
    "            state.append(agent_state)\n",
    "        state = np.array(state)\n",
    "\n",
    "        agent_scores = [0 for i in range(NUM_AGENTS)]\n",
    "        for t in range(max_t):\n",
    "\n",
    "            actions = []\n",
    "            raw_actions = []\n",
    "            rewards = []\n",
    "            is_terminated = []\n",
    "            for i in range(0, NUM_AGENTS):\n",
    "                action = agent.act(state[i], eps).astype(int)\n",
    "                action_buffers[i].append(action)\n",
    "                actions.append(ACTION_MAP[action])\n",
    "                raw_actions.append(int(action))\n",
    "            \n",
    "            (result, screen) = environment.step(actions)\n",
    "            for i in range(0, NUM_AGENTS):\n",
    "                framebuffers[i].append(np.squeeze(screen[i]))\n",
    "                rewards.append(result[i]['reward'])\n",
    "                is_terminated.append(result[i]['is_terminated'])\n",
    "                next_state = augment_state(list(framebuffers[i]), list(action_buffers[i]))\n",
    "                agent.step(state[i], raw_actions[i], float(rewards[i]), next_state, int(is_terminated[i]))\n",
    "                state[i] = next_state\n",
    "                agent_scores[i] += rewards[i]\n",
    "                if is_terminated[i]: continue \n",
    "\n",
    "            if np.all(is_terminated):\n",
    "                break\n",
    "\n",
    "        scores_window.append(np.mean(agent_scores))       # save most recent score\n",
    "        scores.append(np.mean(agent_scores))\n",
    "                      # save most recent score\n",
    "        eps = max(eps_end, eps_decay*eps) # decrease epsilon\n",
    "        print('\\rEpisode {}\\tAverage Score: {:.2f}'.format(i_episode, np.mean(scores_window)), end=\"\")\n",
    "        if i_episode % 100 == 0:\n",
    "            torch.save(agent.qnetwork_local.state_dict(), \"visual_q_network.pth\")\n",
    "            print('\\rEpisode {}\\tAverage Score: {:.2f}'.format(i_episode, np.mean(scores_window)))\n",
    "\n",
    "    return scores"
   ]
  },
  {
   "cell_type": "code",
   "execution_count": 7,
   "metadata": {},
   "outputs": [],
   "source": [
    "scores = dqn(n_episodes=100, max_t=200)"
   ]
  },
  {
   "cell_type": "code",
   "execution_count": null,
   "metadata": {},
   "outputs": [],
   "source": [
    "# plot the scores\n",
    "fig = plt.figure()\n",
    "fig.add_subplot(111)\n",
    "plt.plot(np.arange(len(scores)), scores)\n",
    "plt.ylabel('Score')\n",
    "plt.xlabel('Episode #')\n",
    "plt.show()"
   ]
  },
  {
   "cell_type": "markdown",
   "metadata": {},
   "source": []
  }
 ],
 "metadata": {
  "kernelspec": {
   "display_name": "Python 3.10.6 ('torch')",
   "language": "python",
   "name": "python3"
  },
  "language_info": {
   "codemirror_mode": {
    "name": "ipython",
    "version": 3
   },
   "file_extension": ".py",
   "mimetype": "text/x-python",
   "name": "python",
   "nbconvert_exporter": "python",
   "pygments_lexer": "ipython3",
   "version": "3.10.6"
  },
  "orig_nbformat": 4,
  "vscode": {
   "interpreter": {
    "hash": "82ea6adb180b12ed72836e614d5d57295654ca2a9780d621124b81b6a9baa809"
   }
  }
 },
 "nbformat": 4,
 "nbformat_minor": 2
}
